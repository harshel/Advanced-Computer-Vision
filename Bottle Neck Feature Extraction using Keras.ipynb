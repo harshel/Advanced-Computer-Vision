{
 "cells": [
  {
   "cell_type": "code",
   "execution_count": 1,
   "metadata": {
    "_cell_guid": "b1076dfc-b9ad-4769-8c92-a6c4dae69d19",
    "_uuid": "8f2839f25d086af736a60e9eeb907d3b93b6e0e5"
   },
   "outputs": [],
   "source": [
    "import numpy as np # linear algebra\n",
    "import pandas as pd # data processing, CSV file I/O (e.g. pd.read_csv)\n",
    "import os\n",
    "import sklearn\n",
    "from sklearn.model_selection import train_test_split\n",
    "from sklearn.model_selection import GridSearchCV\n",
    "from sklearn.svm import SVC\n",
    "from sklearn.neighbors import KNeighborsClassifier\n",
    "from sklearn.naive_bayes import MultinomialNB\n",
    "from sklearn.metrics import accuracy_score\n",
    "import os, shutil\n",
    "from keras.preprocessing.image import ImageDataGenerator\n",
    "from keras.applications import ResNet50"
   ]
  },
  {
   "cell_type": "markdown",
   "metadata": {},
   "source": [
    "Intializing ImageDataGenerator which is used to perform all Pre-Processing and Data Augmentation such as Rescaling, Resizing, Flipping and changing orientations etc"
   ]
  },
  {
   "cell_type": "code",
   "execution_count": null,
   "metadata": {},
   "outputs": [],
   "source": [
    "datagen = ImageDataGenerator(rescale=1./255)\n",
    "img_width = 224\n",
    "img_height = 224\n",
    "batch_size = 32"
   ]
  },
  {
   "cell_type": "markdown",
   "metadata": {},
   "source": [
    "Initializing Resnet50 pretrained model without including the fully connected layers as we want our own fully connected layer trained for our dataset."
   ]
  },
  {
   "cell_type": "code",
   "execution_count": null,
   "metadata": {},
   "outputs": [],
   "source": [
    "conv_base = ResNet50(weights='imagenet',\n",
    "                 include_top=False,\n",
    "                 input_shape=(img_width, img_height, 3))  # 3 = number of channels in RGB pictures"
   ]
  },
  {
   "cell_type": "markdown",
   "metadata": {},
   "source": [
    "Creating a function which will create 2 arrays one is for extracted features from the last layer before going into the fully connected layer. Another array is there contains the labels for the extracted features."
   ]
  },
  {
   "cell_type": "code",
   "execution_count": 3,
   "metadata": {
    "_cell_guid": "79c7e3d0-c299-4dcb-8224-4455121ee9b0",
    "_uuid": "d629ff2d2480ee46fbb7e2d37f6b5fab8052498a"
   },
   "outputs": [],
   "source": [
    "def extract_features(directory, sample_count):\n",
    "   features = np.zeros(shape=(sample_count, 7, 7, 2048))  # Must be equal to the output of the convolutional base\n",
    "   labels = np.zeros(shape=(sample_count,10))\n",
    "   # Preprocess data\n",
    "   generator = datagen.flow_from_directory(directory,\n",
    "                                           target_size=(img_width,img_height),\n",
    "                                           batch_size = batch_size,\n",
    "                                           class_mode='categorical')\n",
    "   # Pass data through convolutional base\n",
    "   i = 0\n",
    "   for inputs_batch, labels_batch in generator:\n",
    "       features_batch = conv_base.predict(inputs_batch)\n",
    "       features[i * batch_size: (i + 1) * batch_size] = features_batch\n",
    "       labels[i * batch_size: (i + 1) * batch_size] = labels_batch\n",
    "       i += 1\n",
    "       if i * batch_size >= sample_count:\n",
    "           break\n",
    "   return features, labels\n",
    "\n",
    "train_size = 1088\n",
    "validation_size = 256"
   ]
  },
  {
   "cell_type": "markdown",
   "metadata": {},
   "source": [
    "Passing dataset path and number of observations for training dataset."
   ]
  },
  {
   "cell_type": "code",
   "execution_count": 4,
   "metadata": {},
   "outputs": [
    {
     "name": "stdout",
     "output_type": "stream",
     "text": [
      "Found 1098 images belonging to 10 classes.\n",
      "Found 272 images belonging to 10 classes.\n"
     ]
    }
   ],
   "source": [
    "train_features, train_labels = extract_features('../input/10-monkey-species/training/training/', train_size)  # Agree with our small dataset size\n",
    "validation_features, validation_labels = extract_features('../input/10-monkey-species/validation/validation/', validation_size)"
   ]
  },
  {
   "cell_type": "code",
   "execution_count": 5,
   "metadata": {},
   "outputs": [],
   "source": [
    "features = np.concatenate((train_features, validation_features))"
   ]
  },
  {
   "cell_type": "code",
   "execution_count": 6,
   "metadata": {},
   "outputs": [],
   "source": [
    "labels_train= []\n",
    "for i in range(len(train_labels)):\n",
    "    labels_train.append(np.argmax(train_labels[i])) \n",
    "    \n",
    "labels_valid= []\n",
    "for i in range(len(validation_labels)):\n",
    "    labels_valid.append(np.argmax(validation_labels[i])) "
   ]
  },
  {
   "cell_type": "code",
   "execution_count": 7,
   "metadata": {},
   "outputs": [],
   "source": [
    "labels = np.concatenate((labels_train, labels_valid))"
   ]
  },
  {
   "cell_type": "markdown",
   "metadata": {},
   "source": [
    "Reshaping the features "
   ]
  },
  {
   "cell_type": "code",
   "execution_count": 8,
   "metadata": {},
   "outputs": [
    {
     "data": {
      "text/plain": [
       "MultinomialNB(alpha=1.0, class_prior=None, fit_prior=True)"
      ]
     },
     "execution_count": 8,
     "metadata": {},
     "output_type": "execute_result"
    }
   ],
   "source": [
    "X_train, y_train = features.reshape(1344,7*7*2048),labels\n",
    "\n",
    "x_train,x_test,y_train,y_test = train_test_split(X_train,y_train,test_size = 0.2,random_state = 42)\n",
    "\n",
    "nb = MultinomialNB()\n",
    "nb.fit(x_train, y_train)"
   ]
  },
  {
   "cell_type": "code",
   "execution_count": 9,
   "metadata": {},
   "outputs": [],
   "source": [
    "pred = nb.predict(x_test)"
   ]
  },
  {
   "cell_type": "code",
   "execution_count": 10,
   "metadata": {},
   "outputs": [
    {
     "data": {
      "text/plain": [
       "0.21189591078066913"
      ]
     },
     "execution_count": 10,
     "metadata": {},
     "output_type": "execute_result"
    }
   ],
   "source": [
    "accuracy_score(y_test,pred)"
   ]
  },
  {
   "cell_type": "markdown",
   "metadata": {},
   "source": [
    "## Using InceptionV3"
   ]
  },
  {
   "cell_type": "code",
   "execution_count": 11,
   "metadata": {},
   "outputs": [
    {
     "name": "stdout",
     "output_type": "stream",
     "text": [
      "Downloading data from https://github.com/fchollet/deep-learning-models/releases/download/v0.5/inception_v3_weights_tf_dim_ordering_tf_kernels_notop.h5\n",
      "87916544/87910968 [==============================] - 3s 0us/step\n"
     ]
    }
   ],
   "source": [
    "# Extract features\n",
    "import os, shutil\n",
    "import numpy as np\n",
    "from keras.preprocessing.image import ImageDataGenerator\n",
    "\n",
    "datagen = ImageDataGenerator(rescale=1./255,horizontal_flip=True,shear_range=0.2,zoom_range=0.2)\n",
    "img_width = 224\n",
    "img_height = 224\n",
    "batch_size = 32\n",
    "# Instantiate convolutional base\n",
    "from keras.applications import InceptionV3\n",
    "\n",
    "conv_base = InceptionV3(weights='imagenet',\n",
    "                 include_top=False,\n",
    "                 input_shape=(img_width, img_height, 3))  # 3 = number of channels in RGB pictures\n",
    "def extract_features(directory, sample_count):\n",
    "   features = np.zeros(shape=(sample_count, 5,5, 2048))  # Must be equal to the output of the convolutional base\n",
    "   labels = np.zeros(shape=(sample_count,10))\n",
    "   # Preprocess data\n",
    "   generator = datagen.flow_from_directory(directory,\n",
    "                                           target_size=(img_width,img_height),\n",
    "                                           batch_size = batch_size,\n",
    "                                           class_mode='categorical')\n",
    "   # Pass data through convolutional base\n",
    "   i = 0\n",
    "   for inputs_batch, labels_batch in generator:\n",
    "       features_batch = conv_base.predict(inputs_batch)\n",
    "       features[i * batch_size: (i + 1) * batch_size] = features_batch\n",
    "       labels[i * batch_size: (i + 1) * batch_size] = labels_batch\n",
    "       i += 1\n",
    "       if i * batch_size >= sample_count:\n",
    "           break\n",
    "   return features, labels\n",
    "\n",
    "train_size = 1088\n",
    "validation_size = 256"
   ]
  },
  {
   "cell_type": "code",
   "execution_count": 12,
   "metadata": {},
   "outputs": [
    {
     "name": "stdout",
     "output_type": "stream",
     "text": [
      "Found 1098 images belonging to 10 classes.\n",
      "Found 272 images belonging to 10 classes.\n"
     ]
    }
   ],
   "source": [
    "train_features, train_labels = extract_features('../input/10-monkey-species/training/training/', train_size)  # Agree with our small dataset size\n",
    "validation_features, validation_labels = extract_features('../input/10-monkey-species/validation/validation/', validation_size)"
   ]
  },
  {
   "cell_type": "code",
   "execution_count": 13,
   "metadata": {},
   "outputs": [],
   "source": [
    "features = np.concatenate((train_features, validation_features))"
   ]
  },
  {
   "cell_type": "code",
   "execution_count": 14,
   "metadata": {},
   "outputs": [],
   "source": [
    "labels_train= []\n",
    "for i in range(len(train_labels)):\n",
    "    labels_train.append(np.argmax(train_labels[i])) \n",
    "    \n",
    "labels_valid= []\n",
    "for i in range(len(validation_labels)):\n",
    "    labels_valid.append(np.argmax(validation_labels[i])) "
   ]
  },
  {
   "cell_type": "code",
   "execution_count": 15,
   "metadata": {},
   "outputs": [],
   "source": [
    "labels = np.concatenate((labels_train, labels_valid))"
   ]
  },
  {
   "cell_type": "code",
   "execution_count": 16,
   "metadata": {},
   "outputs": [
    {
     "data": {
      "text/plain": [
       "MultinomialNB(alpha=1.0, class_prior=None, fit_prior=True)"
      ]
     },
     "execution_count": 16,
     "metadata": {},
     "output_type": "execute_result"
    }
   ],
   "source": [
    "X_train, y_train = features.reshape(1344,5*5*2048), labels\n",
    "\n",
    "x_train,x_test,y_train,y_test = train_test_split(X_train,y_train,test_size = 0.2,random_state = 42)\n",
    "\n",
    "nb = MultinomialNB()\n",
    "nb.fit(x_train, y_train)"
   ]
  },
  {
   "cell_type": "code",
   "execution_count": 17,
   "metadata": {},
   "outputs": [],
   "source": [
    "pred = nb.predict(x_test)"
   ]
  },
  {
   "cell_type": "code",
   "execution_count": 18,
   "metadata": {},
   "outputs": [
    {
     "data": {
      "text/plain": [
       "0.9107806691449815"
      ]
     },
     "execution_count": 18,
     "metadata": {},
     "output_type": "execute_result"
    }
   ],
   "source": [
    "accuracy_score(y_test,pred)"
   ]
  },
  {
   "cell_type": "markdown",
   "metadata": {},
   "source": [
    "## Using VGG19"
   ]
  },
  {
   "cell_type": "code",
   "execution_count": 19,
   "metadata": {},
   "outputs": [
    {
     "name": "stdout",
     "output_type": "stream",
     "text": [
      "Downloading data from https://github.com/fchollet/deep-learning-models/releases/download/v0.1/vgg19_weights_tf_dim_ordering_tf_kernels_notop.h5\n",
      "80142336/80134624 [==============================] - 3s 0us/step\n"
     ]
    }
   ],
   "source": [
    "# Extract features\n",
    "import os, shutil\n",
    "import numpy as np\n",
    "from keras.preprocessing.image import ImageDataGenerator\n",
    "datagen = ImageDataGenerator(rescale=1./255,horizontal_flip=True,shear_range=0.2,zoom_range=0.2)\n",
    "img_width = 224\n",
    "img_height = 224\n",
    "batch_size = 32\n",
    "# Instantiate convolutional base\n",
    "from keras.applications import VGG19\n",
    "\n",
    "conv_base = VGG19(weights='imagenet',\n",
    "                 include_top=False,\n",
    "                 input_shape=(img_width, img_height, 3))  # 3 = number of channels in RGB pictures\n",
    "def extract_features(directory, sample_count):\n",
    "   features = np.zeros(shape=(sample_count, 7,7,512))  # Must be equal to the output of the convolutional base\n",
    "   labels = np.zeros(shape=(sample_count,10))\n",
    "   # Preprocess data\n",
    "   generator = datagen.flow_from_directory(directory,\n",
    "                                           target_size=(img_width,img_height),\n",
    "                                           batch_size = batch_size,\n",
    "                                           class_mode='categorical')\n",
    "   # Pass data through convolutional base\n",
    "   i = 0\n",
    "   for inputs_batch, labels_batch in generator:\n",
    "       features_batch = conv_base.predict(inputs_batch)\n",
    "       features[i * batch_size: (i + 1) * batch_size] = features_batch\n",
    "       labels[i * batch_size: (i + 1) * batch_size] = labels_batch\n",
    "       i += 1\n",
    "       if i * batch_size >= sample_count:\n",
    "           break\n",
    "   return features, labels\n",
    "\n",
    "train_size = 1088\n",
    "validation_size = 256"
   ]
  },
  {
   "cell_type": "code",
   "execution_count": 20,
   "metadata": {},
   "outputs": [
    {
     "name": "stdout",
     "output_type": "stream",
     "text": [
      "Found 1098 images belonging to 10 classes.\n",
      "Found 272 images belonging to 10 classes.\n"
     ]
    }
   ],
   "source": [
    "train_features, train_labels = extract_features('../input/10-monkey-species/training/training/', train_size)  # Agree with our small dataset size\n",
    "validation_features, validation_labels = extract_features('../input/10-monkey-species/validation/validation/', validation_size)"
   ]
  },
  {
   "cell_type": "code",
   "execution_count": 21,
   "metadata": {},
   "outputs": [],
   "source": [
    "features = np.concatenate((train_features, validation_features))"
   ]
  },
  {
   "cell_type": "code",
   "execution_count": 22,
   "metadata": {},
   "outputs": [],
   "source": [
    "labels_train= []\n",
    "for i in range(len(train_labels)):\n",
    "    labels_train.append(np.argmax(train_labels[i])) \n",
    "    \n",
    "labels_valid= []\n",
    "for i in range(len(validation_labels)):\n",
    "    labels_valid.append(np.argmax(validation_labels[i])) "
   ]
  },
  {
   "cell_type": "code",
   "execution_count": 23,
   "metadata": {},
   "outputs": [],
   "source": [
    "labels = np.concatenate((labels_train, labels_valid))"
   ]
  },
  {
   "cell_type": "code",
   "execution_count": 24,
   "metadata": {},
   "outputs": [
    {
     "data": {
      "text/plain": [
       "MultinomialNB(alpha=1.0, class_prior=None, fit_prior=True)"
      ]
     },
     "execution_count": 24,
     "metadata": {},
     "output_type": "execute_result"
    }
   ],
   "source": [
    "X_train, y_train = features.reshape(1344,7*7*512), labels\n",
    "\n",
    "x_train,x_test,y_train,y_test = train_test_split(X_train,y_train,test_size = 0.2,random_state = 42)\n",
    "\n",
    "nb = MultinomialNB()\n",
    "nb.fit(x_train, y_train)"
   ]
  },
  {
   "cell_type": "code",
   "execution_count": 25,
   "metadata": {},
   "outputs": [],
   "source": [
    "pred = nb.predict(x_test)"
   ]
  },
  {
   "cell_type": "code",
   "execution_count": 26,
   "metadata": {},
   "outputs": [
    {
     "data": {
      "text/plain": [
       "0.49814126394052044"
      ]
     },
     "execution_count": 26,
     "metadata": {},
     "output_type": "execute_result"
    }
   ],
   "source": [
    "accuracy_score(y_test,pred)"
   ]
  },
  {
   "cell_type": "markdown",
   "metadata": {},
   "source": [
    "## Using InceptionResNetV2"
   ]
  },
  {
   "cell_type": "code",
   "execution_count": 27,
   "metadata": {},
   "outputs": [
    {
     "name": "stdout",
     "output_type": "stream",
     "text": [
      "Downloading data from https://github.com/fchollet/deep-learning-models/releases/download/v0.7/inception_resnet_v2_weights_tf_dim_ordering_tf_kernels_notop.h5\n",
      "219062272/219055592 [==============================] - 8s 0us/step\n"
     ]
    }
   ],
   "source": [
    "# Extract features\n",
    "import os, shutil\n",
    "import numpy as np\n",
    "from keras.preprocessing.image import ImageDataGenerator\n",
    "datagen = ImageDataGenerator(rescale=1./255,horizontal_flip=True,shear_range=0.2,zoom_range=0.2)\n",
    "img_width = 224\n",
    "img_height = 224\n",
    "batch_size = 32\n",
    "# Instantiate convolutional base\n",
    "from keras.applications import InceptionResNetV2\n",
    "\n",
    "\n",
    "conv_base = InceptionResNetV2(weights='imagenet',\n",
    "                 include_top=False,\n",
    "                 input_shape=(img_width, img_height, 3))  # 3 = number of channels in RGB pictures\n",
    "\n",
    "def extract_features(directory, sample_count):\n",
    "   features = np.zeros(shape=(sample_count, 5,5,1536))  # Must be equal to the output of the convolutional base\n",
    "   labels = np.zeros(shape=(sample_count,10))\n",
    "   # Preprocess data\n",
    "   generator = datagen.flow_from_directory(directory,\n",
    "                                           target_size=(img_width,img_height),\n",
    "                                           batch_size = batch_size,\n",
    "                                           class_mode='categorical')\n",
    "   # Pass data through convolutional base\n",
    "   i = 0\n",
    "   for inputs_batch, labels_batch in generator:\n",
    "       features_batch = conv_base.predict(inputs_batch)\n",
    "       features[i * batch_size: (i + 1) * batch_size] = features_batch\n",
    "       labels[i * batch_size: (i + 1) * batch_size] = labels_batch\n",
    "       i += 1\n",
    "       if i * batch_size >= sample_count:\n",
    "           break\n",
    "   return features, labels\n",
    "\n",
    "train_size = 1088\n",
    "validation_size = 256"
   ]
  },
  {
   "cell_type": "code",
   "execution_count": 28,
   "metadata": {},
   "outputs": [
    {
     "name": "stdout",
     "output_type": "stream",
     "text": [
      "Found 1098 images belonging to 10 classes.\n",
      "Found 272 images belonging to 10 classes.\n"
     ]
    }
   ],
   "source": [
    "train_features, train_labels = extract_features('../input/10-monkey-species/training/training/', train_size)  # Agree with our small dataset size\n",
    "validation_features, validation_labels = extract_features('../input/10-monkey-species/validation/validation/', validation_size)"
   ]
  },
  {
   "cell_type": "code",
   "execution_count": 29,
   "metadata": {},
   "outputs": [],
   "source": [
    "features = np.concatenate((train_features, validation_features))"
   ]
  },
  {
   "cell_type": "code",
   "execution_count": 30,
   "metadata": {},
   "outputs": [],
   "source": [
    "labels_train= []\n",
    "for i in range(len(train_labels)):\n",
    "    labels_train.append(np.argmax(train_labels[i])) \n",
    "    \n",
    "labels_valid= []\n",
    "for i in range(len(validation_labels)):\n",
    "    labels_valid.append(np.argmax(validation_labels[i])) "
   ]
  },
  {
   "cell_type": "code",
   "execution_count": 31,
   "metadata": {},
   "outputs": [],
   "source": [
    "labels = np.concatenate((labels_train, labels_valid))"
   ]
  },
  {
   "cell_type": "code",
   "execution_count": 32,
   "metadata": {},
   "outputs": [
    {
     "data": {
      "text/plain": [
       "MultinomialNB(alpha=1.0, class_prior=None, fit_prior=True)"
      ]
     },
     "execution_count": 32,
     "metadata": {},
     "output_type": "execute_result"
    }
   ],
   "source": [
    "X_train, y_train = features.reshape(1344,5*5*1536), labels\n",
    "\n",
    "x_train,x_test,y_train,y_test = train_test_split(X_train,y_train,test_size = 0.2,random_state = 42)\n",
    "\n",
    "nb = MultinomialNB()\n",
    "nb.fit(x_train, y_train)"
   ]
  },
  {
   "cell_type": "code",
   "execution_count": 33,
   "metadata": {},
   "outputs": [],
   "source": [
    "pred = nb.predict(x_test)"
   ]
  },
  {
   "cell_type": "code",
   "execution_count": 34,
   "metadata": {},
   "outputs": [
    {
     "data": {
      "text/plain": [
       "0.9144981412639405"
      ]
     },
     "execution_count": 34,
     "metadata": {},
     "output_type": "execute_result"
    }
   ],
   "source": [
    "accuracy_score(y_test,pred)"
   ]
  },
  {
   "cell_type": "markdown",
   "metadata": {},
   "source": [
    "## Using MobileNetV2"
   ]
  },
  {
   "cell_type": "code",
   "execution_count": 35,
   "metadata": {},
   "outputs": [
    {
     "name": "stdout",
     "output_type": "stream",
     "text": [
      "Downloading data from https://github.com/JonathanCMitchell/mobilenet_v2_keras/releases/download/v1.1/mobilenet_v2_weights_tf_dim_ordering_tf_kernels_1.0_224_no_top.h5\n",
      "9412608/9406464 [==============================] - 1s 0us/step\n"
     ]
    }
   ],
   "source": [
    "# Extract features\n",
    "import os, shutil\n",
    "import numpy as np\n",
    "from keras.preprocessing.image import ImageDataGenerator\n",
    "datagen = ImageDataGenerator(rescale=1./255,horizontal_flip=True,shear_range=0.2,zoom_range=0.2)\n",
    "img_width = 224\n",
    "img_height = 224\n",
    "batch_size = 32\n",
    "# Instantiate convolutional base\n",
    "from keras.applications import MobileNetV2\n",
    "\n",
    "\n",
    "conv_base = MobileNetV2(weights='imagenet',\n",
    "                 include_top=False,\n",
    "                 input_shape=(img_width, img_height, 3))  # 3 = number of channels in RGB pictures\n",
    "\n",
    "def extract_features(directory, sample_count):\n",
    "   features = np.zeros(shape=(sample_count, 7,7,1280))  # Must be equal to the output of the convolutional base\n",
    "   labels = np.zeros(shape=(sample_count,10))\n",
    "   # Preprocess data\n",
    "   generator = datagen.flow_from_directory(directory,\n",
    "                                           target_size=(img_width,img_height),\n",
    "                                           batch_size = batch_size,\n",
    "                                           class_mode='categorical')\n",
    "   # Pass data through convolutional base\n",
    "   i = 0\n",
    "   for inputs_batch, labels_batch in generator:\n",
    "       features_batch = conv_base.predict(inputs_batch)\n",
    "       features[i * batch_size: (i + 1) * batch_size] = features_batch\n",
    "       labels[i * batch_size: (i + 1) * batch_size] = labels_batch\n",
    "       i += 1\n",
    "       if i * batch_size >= sample_count:\n",
    "           break\n",
    "   return features, labels\n",
    "\n",
    "train_size = 1088\n",
    "validation_size = 256"
   ]
  },
  {
   "cell_type": "code",
   "execution_count": 36,
   "metadata": {},
   "outputs": [
    {
     "name": "stdout",
     "output_type": "stream",
     "text": [
      "Found 1098 images belonging to 10 classes.\n",
      "Found 272 images belonging to 10 classes.\n"
     ]
    }
   ],
   "source": [
    "train_features, train_labels = extract_features('../input/10-monkey-species/training/training/', train_size)  # Agree with our small dataset size\n",
    "validation_features, validation_labels = extract_features('../input/10-monkey-species/validation/validation/', validation_size)"
   ]
  },
  {
   "cell_type": "code",
   "execution_count": 37,
   "metadata": {},
   "outputs": [],
   "source": [
    "features = np.concatenate((train_features, validation_features))"
   ]
  },
  {
   "cell_type": "code",
   "execution_count": 38,
   "metadata": {},
   "outputs": [],
   "source": [
    "labels_train= []\n",
    "for i in range(len(train_labels)):\n",
    "    labels_train.append(np.argmax(train_labels[i])) \n",
    "    \n",
    "labels_valid= []\n",
    "for i in range(len(validation_labels)):\n",
    "    labels_valid.append(np.argmax(validation_labels[i])) "
   ]
  },
  {
   "cell_type": "code",
   "execution_count": 39,
   "metadata": {},
   "outputs": [],
   "source": [
    "labels = np.concatenate((labels_train, labels_valid))"
   ]
  },
  {
   "cell_type": "code",
   "execution_count": 40,
   "metadata": {},
   "outputs": [
    {
     "data": {
      "text/plain": [
       "MultinomialNB(alpha=1.0, class_prior=None, fit_prior=True)"
      ]
     },
     "execution_count": 40,
     "metadata": {},
     "output_type": "execute_result"
    }
   ],
   "source": [
    "X_train, y_train = features.reshape(1344,7*7*1280), labels\n",
    "\n",
    "x_train,x_test,y_train,y_test = train_test_split(X_train,y_train,test_size = 0.2,random_state = 42)\n",
    "\n",
    "nb = MultinomialNB()\n",
    "nb.fit(x_train, y_train)"
   ]
  },
  {
   "cell_type": "code",
   "execution_count": 41,
   "metadata": {},
   "outputs": [],
   "source": [
    "pred = nb.predict(x_test)"
   ]
  },
  {
   "cell_type": "code",
   "execution_count": 42,
   "metadata": {},
   "outputs": [
    {
     "data": {
      "text/plain": [
       "0.9256505576208178"
      ]
     },
     "execution_count": 42,
     "metadata": {},
     "output_type": "execute_result"
    }
   ],
   "source": [
    "accuracy_score(y_test,pred)"
   ]
  },
  {
   "cell_type": "code",
   "execution_count": null,
   "metadata": {},
   "outputs": [],
   "source": []
  }
 ],
 "metadata": {
  "kernelspec": {
   "display_name": "Python 3",
   "language": "python",
   "name": "python3"
  },
  "language_info": {
   "codemirror_mode": {
    "name": "ipython",
    "version": 3
   },
   "file_extension": ".py",
   "mimetype": "text/x-python",
   "name": "python",
   "nbconvert_exporter": "python",
   "pygments_lexer": "ipython3",
   "version": "3.6.5"
  }
 },
 "nbformat": 4,
 "nbformat_minor": 1
}
